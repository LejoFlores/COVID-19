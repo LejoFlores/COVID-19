{
 "cells": [
  {
   "cell_type": "markdown",
   "metadata": {},
   "source": [
    "# Create a plot of Idaho Confirmed COVID-19 Cases as of Yesterday\n",
    "\n",
    "### 1. Load the needed libraries"
   ]
  },
  {
   "cell_type": "code",
   "execution_count": 1,
   "metadata": {},
   "outputs": [],
   "source": [
    "import pandas as pd\n",
    "import numpy as np\n",
    "import matplotlib.pyplot as plt"
   ]
  },
  {
   "cell_type": "markdown",
   "metadata": {},
   "source": [
    "### 2. Get the range of dates and location of the data to munge"
   ]
  },
  {
   "cell_type": "code",
   "execution_count": 2,
   "metadata": {},
   "outputs": [
    {
     "ename": "ValueError",
     "evalue": "cannot construct a Timedelta from the passed arguments, allowed keywords are [weeks, days, hours, minutes, seconds, milliseconds, microseconds, nanoseconds]",
     "output_type": "error",
     "traceback": [
      "\u001b[0;31m---------------------------------------------------------------------------\u001b[0m",
      "\u001b[0;31mTypeError\u001b[0m                                 Traceback (most recent call last)",
      "\u001b[0;32mpandas/_libs/tslibs/timedeltas.pyx\u001b[0m in \u001b[0;36mpandas._libs.tslibs.timedeltas.Timedelta.__new__\u001b[0;34m()\u001b[0m\n",
      "\u001b[0;31mTypeError\u001b[0m: 'day_shift' is an invalid keyword argument for __new__()",
      "\nDuring handling of the above exception, another exception occurred:\n",
      "\u001b[0;31mValueError\u001b[0m                                Traceback (most recent call last)",
      "\u001b[0;32m<ipython-input-2-96593e4c3e29>\u001b[0m in \u001b[0;36m<module>\u001b[0;34m\u001b[0m\n\u001b[1;32m      4\u001b[0m \u001b[0;34m\u001b[0m\u001b[0m\n\u001b[1;32m      5\u001b[0m \u001b[0mid_firstday\u001b[0m \u001b[0;34m=\u001b[0m \u001b[0;34m'3/13/2020'\u001b[0m\u001b[0;34m\u001b[0m\u001b[0;34m\u001b[0m\u001b[0m\n\u001b[0;32m----> 6\u001b[0;31m \u001b[0mid_today\u001b[0m \u001b[0;34m=\u001b[0m \u001b[0mpd\u001b[0m\u001b[0;34m.\u001b[0m\u001b[0mdatetime\u001b[0m\u001b[0;34m.\u001b[0m\u001b[0mstrftime\u001b[0m\u001b[0;34m(\u001b[0m\u001b[0mpd\u001b[0m\u001b[0;34m.\u001b[0m\u001b[0mdatetime\u001b[0m\u001b[0;34m.\u001b[0m\u001b[0mnow\u001b[0m\u001b[0;34m(\u001b[0m\u001b[0;34m)\u001b[0m \u001b[0;34m-\u001b[0m \u001b[0mpd\u001b[0m\u001b[0;34m.\u001b[0m\u001b[0mTimedelta\u001b[0m\u001b[0;34m(\u001b[0m\u001b[0mday_shift\u001b[0m\u001b[0;34m=\u001b[0m\u001b[0;36m0\u001b[0m\u001b[0;34m)\u001b[0m\u001b[0;34m,\u001b[0m \u001b[0;34m'%m-%d-%Y'\u001b[0m\u001b[0;34m)\u001b[0m\u001b[0;34m\u001b[0m\u001b[0;34m\u001b[0m\u001b[0m\n\u001b[0m\u001b[1;32m      7\u001b[0m \u001b[0;34m\u001b[0m\u001b[0m\n\u001b[1;32m      8\u001b[0m \u001b[0mdate_range\u001b[0m \u001b[0;34m=\u001b[0m \u001b[0mpd\u001b[0m\u001b[0;34m.\u001b[0m\u001b[0mdate_range\u001b[0m\u001b[0;34m(\u001b[0m\u001b[0mstart\u001b[0m\u001b[0;34m=\u001b[0m\u001b[0mid_firstday\u001b[0m\u001b[0;34m,\u001b[0m \u001b[0mend\u001b[0m\u001b[0;34m=\u001b[0m\u001b[0mid_today\u001b[0m\u001b[0;34m)\u001b[0m\u001b[0;34m\u001b[0m\u001b[0;34m\u001b[0m\u001b[0m\n",
      "\u001b[0;32mpandas/_libs/tslibs/timedeltas.pyx\u001b[0m in \u001b[0;36mpandas._libs.tslibs.timedeltas.Timedelta.__new__\u001b[0;34m()\u001b[0m\n",
      "\u001b[0;31mValueError\u001b[0m: cannot construct a Timedelta from the passed arguments, allowed keywords are [weeks, days, hours, minutes, seconds, milliseconds, microseconds, nanoseconds]"
     ]
    }
   ],
   "source": [
    "covid_daily_reports = 'csse_covid_19_data/csse_covid_19_daily_reports/'\n",
    "\n",
    "day_shift=0\n",
    "\n",
    "id_firstday = '3/13/2020'\n",
    "id_today = pd.datetime.strftime(pd.datetime.now() - pd.Timedelta(days=day_shift), '%m-%d-%Y')\n",
    "\n",
    "date_range = pd.date_range(start=id_firstday, end=id_today)"
   ]
  },
  {
   "cell_type": "markdown",
   "metadata": {},
   "source": [
    "### 3. Create arrays for numbers of confirmed and recovered cases, and deaths"
   ]
  },
  {
   "cell_type": "code",
   "execution_count": null,
   "metadata": {},
   "outputs": [],
   "source": [
    "ID_confirmed = np.zeros((date_range.size,1))\n",
    "ID_deaths    = np.zeros((date_range.size,1))\n",
    "ID_recovered = np.zeros((date_range.size,1))\n",
    "ID_active    = np.zeros((date_range.size,1))\n",
    "\n",
    "day = 0\n",
    "\n",
    "for date in date_range:\n",
    "    covid_daily_data = pd.read_csv(covid_daily_reports+date.strftime('%m-%d-%Y') + '.csv')\n",
    "    # Note the daily reports changed from 3/22/2020 onward such that the Province or State label was \n",
    "    # Provice_State rather than Province/State. Hence the branch below.\n",
    "    if date <= pd.to_datetime('03-21-2020'):\n",
    "        PS_label = \"Province/State\"\n",
    "    elif date > pd.to_datetime('03-21-2020'):\n",
    "        PS_label = \"Province_State\"\n",
    "\n",
    "    covid_id_daily = covid_daily_data.loc[covid_daily_data[PS_label]==\"Idaho\"]\n",
    "    \n",
    "    ID_confirmed[day] = covid_id_daily[\"Confirmed\"].sum()\n",
    "    ID_deaths[day]    = covid_id_daily[\"Deaths\"].sum()\n",
    "    ID_recovered[day] = covid_id_daily[\"Recovered\"].sum()\n",
    "    \n",
    "    day = day + 1"
   ]
  },
  {
   "cell_type": "markdown",
   "metadata": {},
   "source": [
    "### 4. Create a plot of the time series of data and save it"
   ]
  },
  {
   "cell_type": "code",
   "execution_count": null,
   "metadata": {},
   "outputs": [],
   "source": [
    "days_since_first = np.arange(date_range.size)\n",
    "\n",
    "dt_1p5day = 2.0 ** (days_since_first / 1.5)\n",
    "dt_2day = 2.0 ** (days_since_first / 2.0)\n",
    "dt_3day = 2.0 ** (days_since_first / 3.0)\n",
    "dt_4day = 2.0 ** (days_since_first / 4.0)\n",
    "dt_7day = 2.0 ** (days_since_first / 7.0)\n",
    "\n",
    "fig = plt.figure(figsize=(14,10))\n",
    "plt.plot(days_since_first,ID_confirmed,'o-')\n",
    "\n",
    "plt.plot(days_since_first,dt_1p5day,'--',color='#8f8f8f')\n",
    "plt.text(days_since_first[-1]+0.25,dt_1p5day[-1],'Doubling time: 1.5d',fontsize=14)\n",
    "\n",
    "plt.plot(days_since_first,dt_2day,'--',color='#8f8f8f')\n",
    "plt.text(days_since_first[-1]+0.25,dt_2day[-1],'Doubling time: 2d',fontsize=14)\n",
    "\n",
    "plt.plot(days_since_first,dt_3day,'--',color='#8f8f8f')\n",
    "plt.text(days_since_first[-1]+0.25,dt_3day[-1],'Doubling time: 3d',fontsize=14)\n",
    "\n",
    "plt.plot(days_since_first,dt_4day,'--',color='#8f8f8f')\n",
    "plt.text(days_since_first[-1]+0.25,dt_4day[-1],'Doubling time: 4d',fontsize=14)\n",
    "\n",
    "plt.plot(days_since_first,dt_7day,'--',color='#8f8f8f')\n",
    "plt.text(days_since_first[-1]+0.25,dt_7day[-1],'Doubling time: 7d',fontsize=14)\n",
    "\n",
    "plt.xlim((0,date_range.size+3))\n",
    "\n",
    "plt.xticks(fontsize=18)\n",
    "plt.yticks(fontsize=18)\n",
    "plt.title('Idaho Confirmed COVID-19 Cases, as of '+date_range[-1].strftime('%m-%d-%Y'),fontsize=20)\n",
    "plt.xlabel('Days Since First Confirmed Case',fontsize=18)\n",
    "plt.ylabel('Confirmed Cases',fontsize=18)\n",
    "plt.yscale('log')\n",
    "\n",
    "fig.savefig('ID-COVID-19_'+date_range[-1].strftime('%m-%d-%Y')+'.png', facecolor=fig.get_facecolor(), edgecolor='none')\n"
   ]
  },
  {
   "cell_type": "code",
   "execution_count": null,
   "metadata": {},
   "outputs": [],
   "source": []
  }
 ],
 "metadata": {
  "kernelspec": {
   "display_name": "Python 3",
   "language": "python",
   "name": "python3"
  },
  "language_info": {
   "codemirror_mode": {
    "name": "ipython",
    "version": 3
   },
   "file_extension": ".py",
   "mimetype": "text/x-python",
   "name": "python",
   "nbconvert_exporter": "python",
   "pygments_lexer": "ipython3",
   "version": "3.7.3"
  }
 },
 "nbformat": 4,
 "nbformat_minor": 2
}
